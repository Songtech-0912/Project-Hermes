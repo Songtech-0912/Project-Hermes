{
 "cells": [
  {
   "cell_type": "markdown",
   "metadata": {},
   "source": [
    "# Notes on the Alcubierre Metric\n",
    "\n",
    "Jacky Song\n",
    "\n",
    "The Alcubierre Metric is an elusive subset of Einstein's General Relativity, sought after because it allows for the possibility of faster-than-light travel. The metric is written in condensed form as follows:\n",
    "\n",
    "$$\n",
    "ds^2 = -(a^2-\\beta_i\\beta^i) dt^2 + 2\\beta_idx^idt + _{\\gamma ij}dx^idx^j\n",
    "$$"
   ]
  },
  {
   "cell_type": "markdown",
   "metadata": {},
   "source": [
    "The metric relates the distance between two points within spacetime $ds^2$ (equivalently expressed as $\\Delta s^2$) with the geometry of spacetime, given in spacetime coordinates $\\alpha, \\beta, \\gamma, \\Delta (d)$ and spatial coordinates $i, j,$ and so forth.\n",
    "\n",
    "The metric's characteristics are as follows:\n",
    "\n",
    "* It allows for something...\n",
    "* It allows for something...\n",
    "* It allows for something...\n",
    "\n",
    "A one-to-one mapping of the Alcubierre Metric to python code can be expressed as such:"
   ]
  },
  {
   "cell_type": "code",
   "execution_count": 14,
   "metadata": {},
   "outputs": [],
   "source": [
    "# this is not the Alcubierre Metric,\n",
    "# rather it is the Anti de Sitter metric\n",
    "# but this metric is very similar conceptually\n",
    "# to the Alcubierre Metric\n",
    "# so it will stay here for testing purposes\n",
    "# until I finish mapping the Alcubierre Metric to code\n",
    "\n",
    "import numpy as np\n",
    "import pytest\n",
    "import sympy\n",
    "from sympy import cos, simplify, sin, sinh, tensorcontraction\n",
    "from einsteinpy.symbolic import EinsteinTensor, MetricTensor, RicciScalar\n",
    "\n",
    "sympy.init_printing()"
   ]
  },
  {
   "cell_type": "code",
   "execution_count": 15,
   "metadata": {},
   "outputs": [],
   "source": [
    "syms = sympy.symbols(\"t chi tehta phi\")\n",
    "t, ch, th, ph = syms\n",
    "m = sympy.diag(-1, cos(t) ** 2, cos(t) **2 * sinh(ch) **2, cos(t) ** 2 * sinh(ch) **2 * sin(th) **2).tolist()\n",
    "metric = MetricTensor(m, syms)"
   ]
  },
  {
   "cell_type": "markdown",
   "metadata": {},
   "source": [
    "The peculiar characteristics of the Alcubierre Metric, and in particular that of its \"spacetime bubble\" can be understood via..."
   ]
  },
  {
   "cell_type": "markdown",
   "metadata": {},
   "source": [
    "Therefore, an investigation into alternative *Alcubierre-like* metrics for superluminal travel will also be required to meet the above characteristics. "
   ]
  }
 ],
 "metadata": {
  "kernelspec": {
   "display_name": "Python 3",
   "language": "python",
   "name": "python3"
  },
  "language_info": {
   "codemirror_mode": {
    "name": "ipython",
    "version": 3
   },
   "file_extension": ".py",
   "mimetype": "text/x-python",
   "name": "python",
   "nbconvert_exporter": "python",
   "pygments_lexer": "ipython3",
   "version": "3.8.3"
  }
 },
 "nbformat": 4,
 "nbformat_minor": 4
}
